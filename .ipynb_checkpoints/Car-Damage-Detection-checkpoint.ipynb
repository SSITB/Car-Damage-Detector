{
 "cells": [
  {
   "cell_type": "code",
   "execution_count": null,
   "metadata": {},
   "outputs": [],
   "source": []
  },
  {
   "cell_type": "code",
   "execution_count": 28,
   "metadata": {},
   "outputs": [],
   "source": [
    "import boto3\n",
    "import sagemaker\n",
    "import sys\n",
    "import os\n",
    "import re\n",
    "import numpy as np\n",
    "import subprocess\n",
    "from sagemaker import get_execution_role\n",
    "from sagemaker.amazon.amazon_estimator import get_image_uri\n",
    "import gzip\n",
    "from io import BytesIO\n"
   ]
  },
  {
   "cell_type": "code",
   "execution_count": 20,
   "metadata": {},
   "outputs": [],
   "source": [
    "\n",
    "# NOTE: S3 bucket name must begin with \"deeplens-\" for DeepLens deployment\n",
    "bucket_name='dataset-car-images'\n",
    "prefix = 'cars'"
   ]
  },
  {
   "cell_type": "code",
   "execution_count": 21,
   "metadata": {},
   "outputs": [
    {
     "name": "stdout",
     "output_type": "stream",
     "text": [
      "Bucket already exists\n"
     ]
    }
   ],
   "source": [
    "def setup_env():\n",
    "    \n",
    "    role = get_execution_role()\n",
    "\n",
    "    sess = sagemaker.Session()\n",
    "\n",
    "    \n",
    "    AWS_REGION = 'us-east-1'\n",
    "    s3 = boto3.resource('s3')\n",
    "\n",
    "    s3_bucket = s3.Bucket(bucket_name)\n",
    "\n",
    "    if s3_bucket.creation_date == None:\n",
    "    # create S3 bucket because it does not exist yet\n",
    "        print('Creating S3 bucket {}.'.format(bucket))\n",
    "        resp = s3.create_bucket(\n",
    "            ACL='private',\n",
    "            Bucket=bucket\n",
    "        )\n",
    "    else:\n",
    "        print('Bucket already exists')\n",
    "    return role, sess, AWS_REGION, s3\n",
    "\n",
    "role, sess, AWS_REGION, s3 = setup_env()"
   ]
  },
  {
   "cell_type": "markdown",
   "metadata": {},
   "source": [
    "### Download Data and Create Manifest\n",
    "\n",
    "Note this step \n",
    "\n"
   ]
  },
  {
   "cell_type": "code",
   "execution_count": 31,
   "metadata": {},
   "outputs": [
    {
     "ename": "AttributeError",
     "evalue": "type object 'zip' has no attribute 'zipFile'",
     "output_type": "error",
     "traceback": [
      "\u001b[0;31m---------------------------------------------------------------------------\u001b[0m",
      "\u001b[0;31mAttributeError\u001b[0m                            Traceback (most recent call last)",
      "\u001b[0;32m<ipython-input-31-9df389b9cdd5>\u001b[0m in \u001b[0;36m<module>\u001b[0;34m()\u001b[0m\n\u001b[1;32m     14\u001b[0m         Key=uncompressed_key)   \n\u001b[1;32m     15\u001b[0m \u001b[0;34m\u001b[0m\u001b[0m\n\u001b[0;32m---> 16\u001b[0;31m \u001b[0mcreate_dataset_manifest\u001b[0m\u001b[0;34m(\u001b[0m\u001b[0mbucket_name\u001b[0m\u001b[0;34m,\u001b[0m \u001b[0ms3_bucket\u001b[0m\u001b[0;34m)\u001b[0m\u001b[0;34m\u001b[0m\u001b[0m\n\u001b[0m",
      "\u001b[0;32m<ipython-input-31-9df389b9cdd5>\u001b[0m in \u001b[0;36mcreate_dataset_manifest\u001b[0;34m(bucket_name, s3_bucket)\u001b[0m\n\u001b[1;32m      7\u001b[0m \u001b[0;34m\u001b[0m\u001b[0m\n\u001b[1;32m      8\u001b[0m     s3.upload_fileobj(                      # upload a new obj to s3\n\u001b[0;32m----> 9\u001b[0;31m         Fileobj=zip.zipFile(              # read in the output of gzip -d\n\u001b[0m\u001b[1;32m     10\u001b[0m             \u001b[0;32mNone\u001b[0m\u001b[0;34m,\u001b[0m                           \u001b[0;31m# just return output as BytesIO\u001b[0m\u001b[0;34m\u001b[0m\u001b[0m\n\u001b[1;32m     11\u001b[0m             \u001b[0;34m'rb'\u001b[0m\u001b[0;34m,\u001b[0m                           \u001b[0;31m# read binary\u001b[0m\u001b[0;34m\u001b[0m\u001b[0m\n",
      "\u001b[0;31mAttributeError\u001b[0m: type object 'zip' has no attribute 'zipFile'"
     ]
    }
   ],
   "source": [
    "def create_dataset_manifest(bucket_name, s3_bucket):\n",
    "    bucket = bucket_name\n",
    "    gzipped_key = 'car-damage-detection.tar.gz'\n",
    "    uncompressed_key = 'car-damage-detection'\n",
    "    \n",
    "    s3 = boto3.client('s3')\n",
    "\n",
    "    s3.upload_fileobj(                      # upload a new obj to s3\n",
    "        Fileobj=gzip.GzipFile(              # read in the output of gzip -d\n",
    "            None,                           # just return output as BytesIO\n",
    "            'rb',                           # read binary\n",
    "            fileobj=BytesIO(s3.get_object(Bucket=bucket, Key=gzipped_key)['Body'].read())),\n",
    "        Bucket=bucket,                      # target bucket, writing to\n",
    "        Key=uncompressed_key)   \n",
    "    \n",
    "create_dataset_manifest(bucket_name, s3_bucket)"
   ]
  },
  {
   "cell_type": "code",
   "execution_count": 14,
   "metadata": {},
   "outputs": [
    {
     "name": "stdout",
     "output_type": "stream",
     "text": [
      "Data already exists\n"
     ]
    }
   ],
   "source": [
    "def load_metadata(s3_bucket):\n",
    "    \n",
    "    if not os.path.exists('./car-damage-detection-manifest.zip'):\n",
    "        s3_bucket.download_file('car-damage-detection-manifest.zip','./car-damage-detection-manifest.zip')\n",
    "        print('Successfully Downloaded Image Training Data.')\n",
    "    else:\n",
    "        print('Data already exists')\n",
    "\n",
    "load_data(s3_bucket)\n"
   ]
  },
  {
   "cell_type": "code",
   "execution_count": 16,
   "metadata": {},
   "outputs": [
    {
     "name": "stdout",
     "output_type": "stream",
     "text": [
      "811284229777.dkr.ecr.us-east-1.amazonaws.com/image-classification:latest\n"
     ]
    }
   ],
   "source": [
    "def setup_classifier():\n",
    "\n",
    "    training_image = get_image_uri(sess.boto_region_name, 'image-classification', repo_version=\"latest\")\n",
    "    print (training_image)\n",
    "    return training_image\n",
    "\n",
    "training_image = setup_classifier()"
   ]
  },
  {
   "cell_type": "code",
   "execution_count": null,
   "metadata": {},
   "outputs": [],
   "source": []
  },
  {
   "cell_type": "code",
   "execution_count": null,
   "metadata": {},
   "outputs": [],
   "source": []
  },
  {
   "cell_type": "code",
   "execution_count": null,
   "metadata": {},
   "outputs": [],
   "source": []
  },
  {
   "cell_type": "code",
   "execution_count": null,
   "metadata": {},
   "outputs": [],
   "source": []
  },
  {
   "cell_type": "code",
   "execution_count": null,
   "metadata": {},
   "outputs": [],
   "source": []
  }
 ],
 "metadata": {
  "kernelspec": {
   "display_name": "conda_mxnet_p36",
   "language": "python",
   "name": "conda_mxnet_p36"
  },
  "language_info": {
   "codemirror_mode": {
    "name": "ipython",
    "version": 3
   },
   "file_extension": ".py",
   "mimetype": "text/x-python",
   "name": "python",
   "nbconvert_exporter": "python",
   "pygments_lexer": "ipython3",
   "version": "3.6.5"
  }
 },
 "nbformat": 4,
 "nbformat_minor": 2
}
