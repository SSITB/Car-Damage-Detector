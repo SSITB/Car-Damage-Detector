{
 "cells": [
  {
   "cell_type": "code",
   "execution_count": null,
   "metadata": {},
   "outputs": [],
   "source": []
  },
  {
   "cell_type": "code",
   "execution_count": 34,
   "metadata": {},
   "outputs": [],
   "source": [
    "import boto3\n",
    "import sagemaker\n",
    "import sys\n",
    "import os\n",
    "import re\n",
    "import numpy as np\n",
    "import subprocess\n",
    "from sagemaker import get_execution_role\n",
    "from sagemaker.amazon.amazon_estimator import get_image_uri\n",
    "import gzip\n",
    "from io import BytesIO\n",
    "import zipfile\n"
   ]
  },
  {
   "cell_type": "code",
   "execution_count": 20,
   "metadata": {},
   "outputs": [],
   "source": [
    "\n",
    "# NOTE: S3 bucket name must begin with \"deeplens-\" for DeepLens deployment\n",
    "bucket_name='dataset-car-images'\n",
    "prefix = 'cars'"
   ]
  },
  {
   "cell_type": "code",
   "execution_count": 21,
   "metadata": {},
   "outputs": [
    {
     "name": "stdout",
     "output_type": "stream",
     "text": [
      "Bucket already exists\n"
     ]
    }
   ],
   "source": [
    "def setup_env():\n",
    "    \n",
    "    role = get_execution_role()\n",
    "\n",
    "    sess = sagemaker.Session()\n",
    "\n",
    "    \n",
    "    AWS_REGION = 'us-east-1'\n",
    "    s3 = boto3.resource('s3')\n",
    "\n",
    "    s3_bucket = s3.Bucket(bucket_name)\n",
    "\n",
    "    if s3_bucket.creation_date == None:\n",
    "    # create S3 bucket because it does not exist yet\n",
    "        print('Creating S3 bucket {}.'.format(bucket))\n",
    "        resp = s3.create_bucket(\n",
    "            ACL='private',\n",
    "            Bucket=bucket\n",
    "        )\n",
    "    else:\n",
    "        print('Bucket already exists')\n",
    "    return role, sess, AWS_REGION, s3\n",
    "\n",
    "role, sess, AWS_REGION, s3 = setup_env()"
   ]
  },
  {
   "cell_type": "markdown",
   "metadata": {},
   "source": [
    "### Download Data and Create Manifest\n",
    "\n",
    "Note this step \n",
    "\n"
   ]
  },
  {
   "cell_type": "code",
   "execution_count": 37,
   "metadata": {},
   "outputs": [
    {
     "name": "stdout",
     "output_type": "stream",
     "text": [
      "{'Key': 'car-damage-detection.zip', 'LastModified': datetime.datetime(2020, 1, 28, 8, 5, 52, tzinfo=tzlocal()), 'ETag': '\"04995bbf494354af81b56d9352435db5-8\"', 'Size': 128654048, 'StorageClass': 'STANDARD'}\n",
      "s3.Object(bucket_name='dataset-car-images', key='car-damage-detection.zip')\n"
     ]
    }
   ],
   "source": [
    "def create_dataset_manifest(bucket_name, s3_bucket):\n",
    "#     bucket = bucket_name\n",
    "#     gzipped_key = 'car-damage-dataset.tar.gz'\n",
    "#     uncompressed_key = 'car-damage-dataset/'\n",
    "    \n",
    "#     s3 = boto3.client('s3')\n",
    "\n",
    "#     s3.upload_fileobj(                      # upload a new obj to s3\n",
    "#         Fileobj=gzip.GzipFile(              # read in the output of gzip -d\n",
    "#             None,                           # just return output as BytesIO\n",
    "#             'rb',                           # read binary\n",
    "#             fileobj=BytesIO(s3.get_object(Bucket=bucket, Key=gzipped_key)['Body'].read())),\n",
    "#         Bucket=bucket,                      # target bucket, writing to\n",
    "#         Key=uncompressed_key)   \n",
    "\n",
    "\n",
    "    bucket = bucket_name\n",
    "\n",
    "    s3 = boto3.client('s3', use_ssl=False)\n",
    "    Key_unzip = 'car-damage-dataset/'\n",
    "\n",
    "    prefix      = \"\"\n",
    "    zipped_keys =  s3.list_objects_v2(Bucket=bucket, Prefix=prefix, Delimiter = \"/\")\n",
    "    file_list = []\n",
    "    for key in zipped_keys['Contents']:\n",
    "        file_list.append(key['Key'])\n",
    "        print(key)\n",
    "    #This will give you list of files in the folder you mentioned as prefix\n",
    "    s3_resource = boto3.resource('s3')\n",
    "    #Now create zip object one by one, this below is for 1st file in file_list\n",
    "    zip_obj = s3_resource.Object(bucket_name=bucket, key=file_list[0])\n",
    "    print (zip_obj)\n",
    "    buffer = BytesIO(zip_obj.get()[\"Body\"].read())\n",
    "    z = zipfile.ZipFile(buffer)\n",
    "    for filename in z.namelist():\n",
    "        file_info = z.getinfo(filename)\n",
    "        s3_resource.meta.client.upload_fileobj(\n",
    "            z.open(filename),\n",
    "            Bucket=bucket,\n",
    "            Key=Key_unzip + f'{filename}')\n",
    "    \n",
    "create_dataset_manifest(bucket_name, s3_bucket)"
   ]
  },
  {
   "cell_type": "code",
   "execution_count": 14,
   "metadata": {},
   "outputs": [
    {
     "name": "stdout",
     "output_type": "stream",
     "text": [
      "Data already exists\n"
     ]
    }
   ],
   "source": [
    "def load_metadata(s3_bucket):\n",
    "    \n",
    "    if not os.path.exists('./car-damage-detection-manifest.zip'):\n",
    "        s3_bucket.download_file('car-damage-detection-manifest.zip','./car-damage-detection-manifest.zip')\n",
    "        print('Successfully Downloaded Image Training Data.')\n",
    "    else:\n",
    "        print('Data already exists')\n",
    "\n",
    "load_data(s3_bucket)\n"
   ]
  },
  {
   "cell_type": "code",
   "execution_count": 16,
   "metadata": {},
   "outputs": [
    {
     "name": "stdout",
     "output_type": "stream",
     "text": [
      "811284229777.dkr.ecr.us-east-1.amazonaws.com/image-classification:latest\n"
     ]
    }
   ],
   "source": [
    "def setup_classifier():\n",
    "\n",
    "    training_image = get_image_uri(sess.boto_region_name, 'image-classification', repo_version=\"latest\")\n",
    "    print (training_image)\n",
    "    return training_image\n",
    "\n",
    "training_image = setup_classifier()"
   ]
  },
  {
   "cell_type": "code",
   "execution_count": null,
   "metadata": {},
   "outputs": [],
   "source": []
  },
  {
   "cell_type": "code",
   "execution_count": null,
   "metadata": {},
   "outputs": [],
   "source": []
  },
  {
   "cell_type": "code",
   "execution_count": null,
   "metadata": {},
   "outputs": [],
   "source": []
  },
  {
   "cell_type": "code",
   "execution_count": null,
   "metadata": {},
   "outputs": [],
   "source": []
  },
  {
   "cell_type": "code",
   "execution_count": null,
   "metadata": {},
   "outputs": [],
   "source": []
  }
 ],
 "metadata": {
  "kernelspec": {
   "display_name": "conda_mxnet_p36",
   "language": "python",
   "name": "conda_mxnet_p36"
  },
  "language_info": {
   "codemirror_mode": {
    "name": "ipython",
    "version": 3
   },
   "file_extension": ".py",
   "mimetype": "text/x-python",
   "name": "python",
   "nbconvert_exporter": "python",
   "pygments_lexer": "ipython3",
   "version": "3.6.5"
  }
 },
 "nbformat": 4,
 "nbformat_minor": 2
}
